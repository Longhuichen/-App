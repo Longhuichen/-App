{
  "nbformat": 4,
  "nbformat_minor": 0,
  "metadata": {
    "colab": {
      "name": "data  Fund ranking",
      "provenance": [],
      "authorship_tag": "ABX9TyMl6SjLNpny+P4pU75Rpp/E",
      "include_colab_link": true
    },
    "kernelspec": {
      "name": "python3",
      "display_name": "Python 3"
    },
    "language_info": {
      "name": "python"
    }
  },
  "cells": [
    {
      "cell_type": "markdown",
      "metadata": {
        "id": "view-in-github",
        "colab_type": "text"
      },
      "source": [
        "<a href=\"https://colab.research.google.com/github/Longhuichen/-App/blob/main/data_Fund_ranking.ipynb\" target=\"_parent\"><img src=\"https://colab.research.google.com/assets/colab-badge.svg\" alt=\"Open In Colab\"/></a>"
      ]
    },
    {
      "cell_type": "code",
      "execution_count": 1,
      "metadata": {
        "colab": {
          "base_uri": "https://localhost:8080/",
          "height": 134
        },
        "id": "63n3w_OdlQKr",
        "outputId": "87b1af64-2caa-4b78-b676-b1df3dc565b9"
      },
      "outputs": [
        {
          "output_type": "error",
          "ename": "SyntaxError",
          "evalue": "ignored",
          "traceback": [
            "\u001b[0;36m  File \u001b[0;32m\"<fstring>\"\u001b[0;36m, line \u001b[0;32m1\u001b[0m\n\u001b[0;31m    (df['全部管理规模'].sum()=)\u001b[0m\n\u001b[0m                       ^\u001b[0m\n\u001b[0;31mSyntaxError\u001b[0m\u001b[0;31m:\u001b[0m invalid syntax\n"
          ]
        }
      ],
      "source": [
        "import pandas as pd\n",
        "import akshare as ak\n",
        "from pandas.plotting import table\n",
        "import matplotlib.pyplot as plt\n",
        "\n",
        "def print_table_as_image(data_frame, fig_size, col_width, image_name):\n",
        "    \"\"\"\n",
        "    将数据打印为图片\n",
        "    \"\"\"\n",
        "    fig, ax = plt.subplots(figsize=fig_size)\n",
        "    ax.xaxis.set_visible(False)\n",
        "    ax.yaxis.set_visible(False)\n",
        "    ax.set_frame_on(False)\n",
        "    ax.text(0.5, 0.5, '(py_invest_note)', transform=ax.transAxes,\n",
        "            fontsize=20, color='gray', alpha=0.5,\n",
        "            ha='center', va='center', rotation='30')\n",
        "    tab = table(ax, data_frame, loc='center', colWidths=col_width)\n",
        "    tab.auto_set_font_size(False)\n",
        "    tab.set_fontsize(14)\n",
        "    tab.scale(1.6, 1.6)\n",
        "    plt.savefig(image_name)\n",
        "    \n",
        "# 调整输出格式\n",
        "pd.set_option('display.max_columns', None)\n",
        "pd.set_option('display.width', None)\n",
        "pd.set_option('display.max_colwidth', None)\n",
        "\n",
        "# 基金公司\n",
        "data_name = 'fund_name_em'\n",
        "pkl_name = '{}.pkl'.format(data_name)\n",
        "try:\n",
        "    df = pd.read_pickle(pkl_name)\n",
        "except FileNotFoundError:\n",
        "    df = ak.fund_em_aum()\n",
        "    df.to_pickle(pkl_name)\n",
        "\n",
        "print(df)\n",
        "print(df.columns)\n",
        "print(df.index.size)\n",
        "print(f\"{df['全部管理规模'].sum()=}\")\n",
        "print(f\"{df['全部基金数'].sum()=}\")\n",
        "print(f\"{df['全部经理数'].sum()=}\")\n",
        "\n",
        "#申购状态\n",
        "fund_purchase_em_df = ak.fund_purchase_em()\n",
        "print(fund_purchase_em_df)\n",
        "\n",
        "\n",
        "fund_top10 = df[['基金公司', '成立时间', '全部管理规模', '全部基金数', '全部经理数']].head(n=10)\n",
        "print(fund_top10)\n",
        "print_table_as_image(fund_top10, (8, 4), ([0.3, 0.12, 0.12, 0.12, 0.12]),\n",
        "                     'fund_top10.jpg')\n",
        "\n",
        "# 基金基本信息\n",
        "data_name = 'fund_name_em'\n",
        "pkl_name = '{}.pkl'.format(data_name)\n",
        "try:\n",
        "    df = pd.read_pickle(pkl_name)\n",
        "except FileNotFoundError:\n",
        "    df = ak.fund_em_fund_name()\n",
        "    df.to_pickle(pkl_name)\n",
        "\n",
        "print(df)\n",
        "print(df.columns)\n",
        "print(df.index.size)\n",
        "\n",
        "# 基金排名\n",
        "data_name = 'fund_em_open_fund_rank'\n",
        "pkl_name = '{}.pkl'.format(data_name)\n",
        "try:\n",
        "    df = pd.read_pickle(pkl_name)\n",
        "except FileNotFoundError:\n",
        "    df = ak.fund_em_open_fund_rank(symbol='股票型')\n",
        "    df.to_pickle(pkl_name)\n",
        "\n",
        "print(df)\n",
        "print(df.columns)\n",
        "print(df.index.size)\n",
        "df['今年来'] = pd.to_numeric(df['今年来'], errors='coerce')\n",
        "df['近1年'] = pd.to_numeric(df['近1年'], errors='coerce')\n",
        "df['近3年'] = pd.to_numeric(df['近3年'], errors='coerce')\n",
        "\n",
        "\n",
        "\n",
        "# 今年来收益排名\n",
        "fund_by_this_year = df.sort_values('今年来', ascending=False)\n",
        "print(fund_by_this_year)\n",
        "fund_by_this_year_top10 = fund_by_this_year[['基金代码', '基金简称', '近3年', '近2年', '近1年', '今年来']].head(n=10)\n",
        "fund_by_this_year_top10.reset_index(drop=True, inplace=True)\n",
        "print(fund_by_this_year_top10)\n",
        "print_table_as_image(fund_by_this_year_top10, (10, 4), ([0.08, 0.22] + [0.08] * (len(fund_by_this_year_top10) - 2)),\n",
        "                     'fund_by_this_year_top10.jpg')\n",
        "\n",
        "# 近1年收益排名\n",
        "fund_by_year = df.sort_values('近1年', ascending=False)\n",
        "print(fund_by_year)\n",
        "fund_by_year_top10 = fund_by_year[['基金代码', '基金简称', '近3年', '近2年', '近1年', '今年来']].head(n=10)\n",
        "fund_by_year_top10.reset_index(drop=True, inplace=True)\n",
        "print(fund_by_year_top10)\n",
        "print_table_as_image(fund_by_year_top10, (10, 4), ([0.08, 0.22] + [0.08] * (len(fund_by_year_top10) - 2)),\n",
        "                     'fund_by_year_top10.jpg')\n",
        "\n",
        "# 近3年收益排名\n",
        "fund_by_3year = df.sort_values('近3年', ascending=False)\n",
        "print(fund_by_3year)\n",
        "fund_by_3year_top10 = fund_by_3year[['基金代码', '基金简称', '近3年', '近2年', '近1年', '今年来']].head(n=10)\n",
        "fund_by_3year_top10.reset_index(drop=True, inplace=True)\n",
        "print(fund_by_3year_top10)\n",
        "print_table_as_image(fund_by_3year_top10, (10, 4), ([0.08, 0.22] + [0.08] * (len(fund_by_3year_top10) - 2)),\n",
        "                     'fund_by_3year_top10.jpg')\n",
        "\n",
        "# 基金持股信息\n",
        "data_name = 'stock_report_fund_hold'\n",
        "pkl_name = '{}.pkl'.format(data_name)\n",
        "try:\n",
        "    df = pd.read_pickle(pkl_name)\n",
        "except FileNotFoundError:\n",
        "    df = ak.stock_report_fund_hold(symbol='基金持仓', date='20210331')\n",
        "    df.to_pickle(pkl_name)\n",
        "\n",
        "print(df)\n",
        "print(df.columns)\n",
        "print(df.index.size)\n",
        "\n",
        "# 基金持股Top10\n",
        "stock_top10 = df[['股票代码', '股票简称', '持有基金家数', '持股总数', '持股市值', '持股变化']].head(n=10)\n",
        "stock_top10['持股总数'] = stock_top10['持股总数'].astype(float) / 1e8\n",
        "stock_top10['持股市值'] = stock_top10['持股市值'].astype(float) / 1e8\n",
        "stock_top10.rename(columns={'持股总数': '持股总数(亿股)', '持股市值': '持股市值(亿元)'}, inplace=True)\n",
        "print(stock_top10)\n",
        "print_table_as_image(stock_top10, (12, 4), ([0.1, 0.1, 0.12, 0.16, 0.16, 0.1]),\n",
        "                     'stock_top10.jpg')"
      ]
    },
    {
      "cell_type": "code",
      "source": [
        ""
      ],
      "metadata": {
        "id": "BUoTWFzalfQN"
      },
      "execution_count": null,
      "outputs": []
    }
  ]
}